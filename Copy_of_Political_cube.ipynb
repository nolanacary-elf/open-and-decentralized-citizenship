{
  "nbformat": 4,
  "nbformat_minor": 0,
  "metadata": {
    "colab": {
      "name": "Copy of Political_cube.ipynb",
      "provenance": [],
      "collapsed_sections": [],
      "authorship_tag": "ABX9TyPnYAziS8aAqBM6TiZbaU1m",
      "include_colab_link": true
    },
    "kernelspec": {
      "name": "python3",
      "display_name": "Python 3"
    },
    "language_info": {
      "name": "python"
    }
  },
  "cells": [
    {
      "cell_type": "markdown",
      "metadata": {
        "id": "view-in-github",
        "colab_type": "text"
      },
      "source": [
        "<a href=\"https://colab.research.google.com/github/nolanacary-elf/open-and-decentralized-citizenship/blob/main/Copy_of_Political_cube.ipynb\" target=\"_parent\"><img src=\"https://colab.research.google.com/assets/colab-badge.svg\" alt=\"Open In Colab\"/></a>"
      ]
    },
    {
      "cell_type": "markdown",
      "metadata": {
        "id": "E7ibRxvW3Ryg"
      },
      "source": [
        "First iteration of Politics Cubed. An interactive program to map political\n",
        "beliefs to 81 sub-Groups to better reflect the political realm. In this way of looking at politics, the \"either/or\" narrative is replaced with a model based off three basic dimensions which form a cube instead of a single line.\n",
        "\n",
        "A person can fit into many sub-Groups even though they might fit in with mostly one or another. Essentially, a person identifies with a Political Collection of Left, Center, or Right. The Collection is simply a basic identity much like the Political Line in which people are just points on a line. However, the Political Line too narrowly defines a person, and it doesn't properly represent the true beliefs of people. \n",
        "\n",
        "The sub-Collections divide the Collections into three parts each; left, center, and right. Essentially, every issue can be divided into as many as nine basic positions on the issue instead of the polarized view of \"either/or\" or \"compromise\". In reality, people may have a range of possible views on a particular issue or set of issues. Sub-Collections better reflect how people really think and feel. In truth, a person who fits mostly in one sub_Collection may agree with a completely opposite sub-Collection on a single issue or multiple issues. Or they may fit in many sub-Collections at a nearly equal amount. \n",
        "\n",
        "Groups divide the sub-Collections into 27 Groups by refining a person's views on the type of governing system they most identify with. There are three basic forms of governing systems:\n",
        "\n",
        "\n",
        "1.   Autocracy: Primarily a system ruled by a single person or small group of people.\n",
        "2.   Mixocracy: Primarily a system that is not a true democracy but is short of an autocracy.\n",
        "\n",
        "1.   Democracy: Primarily a system that decides rules and leaders by a majority vote of all adults.\n",
        "\n",
        "Groups are further divided into sub-Groups based upon how willing or unwilling a person is to consider new ideas, solutions, and/or compromises. The basic levels are willing, unwilling, and possibly willing. This forms the 81 sub-Groups a person can identify with. \n",
        "\n",
        "The goal of the program is to help people identify which sub-Groups they identify with.\n",
        "\n",
        "\n",
        "\n",
        "\n",
        "\n"
      ]
    },
    {
      "cell_type": "code",
      "metadata": {
        "id": "heGjfCOT23s4"
      },
      "source": [
        "collections_list = ['Left', 'Center', 'Right'] # A person's self-identified political leanings.\n",
        "subcollections_list = ['left_Left', 'center_Left', 'right_Left',\n",
        "                  'left_Center', 'center_Center', 'right_Center',\n",
        "                  'left_Right', 'center_Right', 'right_Right'] # A refinement based off specific issues.\n",
        "\n",
        "# Refinement based off prefered type of Governing System.\n",
        "groups_list = ['left_Left_Autocracy', 'left_Left_Mixocracy', 'left_Left_Democracy',\n",
        "               'center_Left_Autocracy', 'center_Left_Mixocracy', 'center_Left_Democracy',\n",
        "               'right_Left_Autocracy', 'right_Left_Mixocracy', 'right_Left_Democracy',\n",
        "               'left_Center_Autocracy', 'left_Center_Mixocracy', 'left_Center_Democracy',\n",
        "               'center_Center_Autocracy', 'center_Center_Mixocracy', 'center_Center_Democracy',\n",
        "               'right_Center_Autocracy', 'right_Center_Mixocracy', 'right_Center_Democracy',\n",
        "               'left_Right_Autocracy', 'left_Right_Mixocracy', 'left_Right_Democracy',\n",
        "               'center_Right_Autocracy', 'center_Right_Mixocracy', 'center_Right_Democracy',\n",
        "               'right_Right_Autocracy', 'right_Right_Mixocracy', 'right_Right_Democracy']\n",
        "\n",
        "# Refinement into sub_Groups based on political openness and agreeableness.\n",
        "sub_groups_list = ['left_Left_Autocracy_Unwilling', 'left_Left_Autocracy_Possibly',\n",
        "                   'left_Left_Autocracy_Willing', 'left_Left_Mixocracy_Unwilling',\n",
        "                   'left_Left_Mixocracy_Possibly', 'left_Left_Mixocracy_Willing',\n",
        "                   'left_Left_Democracy_Unwilling', 'left_Left_Democracy_Possibly',\n",
        "                   'left_Left_Democracy_Willing',]"
      ],
      "execution_count": null,
      "outputs": []
    }
  ]
}