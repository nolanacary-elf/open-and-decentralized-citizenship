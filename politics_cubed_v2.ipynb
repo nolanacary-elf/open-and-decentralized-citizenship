{
  "nbformat": 4,
  "nbformat_minor": 0,
  "metadata": {
    "colab": {
      "name": "politics_cubed_v2.ipynb",
      "provenance": [],
      "collapsed_sections": [],
      "authorship_tag": "ABX9TyPEEyCwpa733XWzRO7Qyqy5",
      "include_colab_link": true
    },
    "kernelspec": {
      "name": "python3",
      "display_name": "Python 3"
    },
    "language_info": {
      "name": "python"
    }
  },
  "cells": [
    {
      "cell_type": "markdown",
      "metadata": {
        "id": "view-in-github",
        "colab_type": "text"
      },
      "source": [
        "<a href=\"https://colab.research.google.com/github/nolanacary-elf/open-and-decentralized-citizenship/blob/main/politics_cubed_v2.ipynb\" target=\"_parent\"><img src=\"https://colab.research.google.com/assets/colab-badge.svg\" alt=\"Open In Colab\"/></a>"
      ]
    },
    {
      "cell_type": "code",
      "metadata": {
        "id": "Z3dEhUGOQzsk"
      },
      "source": [
        "# Creating a basic political profile and showing results of data.\n",
        "import matplotlib.pyplot as plt\n",
        "from matplotlib import ticker"
      ],
      "execution_count": null,
      "outputs": []
    },
    {
      "cell_type": "code",
      "metadata": {
        "id": "VFQeA1J77-uh"
      },
      "source": [
        "# Create basic data structures.\n",
        "# Lists for charts, etc.\n",
        "democracy_size = []\n",
        "mixocracy_size = []\n",
        "autocracy_size = []\n",
        "open_size = []\n",
        "partially_open_size = []\n",
        "closed_size = []\n",
        "ll_size = []\n",
        "cl_size = []\n",
        "rl_size = []\n",
        "lc_size = []\n",
        "cc_size = []\n",
        "rc_size = []\n",
        "lr_size = []\n",
        "cr_size = []\n",
        "rr_size = []\n",
        "# Sub-groups.\n",
        "primary_sub_group = []\n",
        " \n",
        "# For Governing Systems.\n",
        "governing_systems = ['Democracy = 1', 'Mixocracy = 2', 'Autocracy = 3']\n",
        "preferred_governing_system = ['Democracy', 'Mixocracy', 'Autocracy']\n",
        "governing_results = []\n",
        "preferred_governing_results = {}\n",
        "governing_questions_answers = {\n",
        "    'As a general rule, which governing system do you prefer?': governing_systems,\n",
        "    'When considering race and ethnicity, which statement best reflects your'\n",
        "    'beliefs': ['1 = All races and ethnic groups should have equal rights to vote.',\n",
        "                '2 = All races and ethnic groups are equal, but in certain cases,'\n",
        "                'one race should have more rights to restrict other races from voting.',\n",
        "                '3 = Certain races and ethnic groups should not be allowed to vote.'],\n",
        "    'In terms of gender, which statement do you most agree with?':\n",
        "    ['1 = Both men and women have equal rights to vote.',\n",
        "     '2 = In some cases one gender should have more rights.',\n",
        "     '3 = One gender should always have more rights.'],\n",
        "    'When it comes to religion, what is your opinion?':\n",
        "    ['1 = All religions should be equally tolerated, and no religion or religions should '\n",
        "     'have power over the government.',\n",
        "     '2 = In some cases, one religion should assert control over other religions and '\n",
        "     'limited control over the government.',\n",
        "     '3 = One religion should institute a theocracy over the goverment and other religions.'],\n",
        "    'For term limits fo appointed and elected public officials, what do you think?':\n",
        "    ['1 = Terms should be short and no more than four terms.',\n",
        "     '2 = Terms should be short but unlimited number of terms allowed.',\n",
        "     '3 = No limits on term, either number of terms or duration of terms.'],\n",
        "    'On inherited titles and positions in government, which alligns with your beliefs?':\n",
        "    ['1 = No government positions or titles allowed.',\n",
        "     '2 = Titles and positions can be inherited, but only with limited powers.',\n",
        "     '3= Leaders can pass control of the government to their heirs.'],\n",
        "    'When considering appointed officials, which do you agree?':\n",
        "    ['1 = All government officials should be elected, no appointed officials.',\n",
        "     '2 = Some officials can be appointed rather than elected.',\n",
        "     '3 = All officials that do not inherit their positions should be appointed.'],\n",
        "    'Voting rights should:':\n",
        "    ['1 = Ensure the greatest number of people can vote.',\n",
        "     '2 = Limit certian  people from voting.',\n",
        "     '3 = Ensure only a small group of people control the vote.'],\n",
        "    'On the amount of power granted to government officials':\n",
        "    ['1 = Government officials should have specific and limited powers only.',\n",
        "     '2 = Government officials can have broad and extensive powers in certain cases.',\n",
        "     '3 = Government officials should have absolute power.'],\n",
        "    'What power should citizens retain?':\n",
        "    ['1 = Citizens should have the power to easily revoke the powers of government officials '\n",
        "     'who are incompetent, corrupt, or exceed the limits of their powers.',\n",
        "     '2 = Citizens can revoke the powers of government officials but it should be difficult to do so.',\n",
        "     '3 = Citizens cannot revoke the powers of government officials for any reason.']\n",
        "    }\n",
        " \n",
        "# For Political Disposition.\n",
        "political_dispositions = ['Open = 1', 'Partially Open = 2', 'Closed = 3']\n",
        "primary_political_disposition = ['Open', 'Partailly Open', 'Closed']\n",
        "disposition_results = []\n",
        "dispositions_questions_answers = {\n",
        "    'What is your general political disposition?': political_dispositions,\n",
        "    'Are you open to new political ideas?':\n",
        "    ['1 = Always.',\n",
        "     '2 = Sometimes.',\n",
        "     '3 = Never.'],\n",
        "    'Are you willing to change your position on issues?':\n",
        "    ['1 = Yes, if I think the evidence supports a change.',\n",
        "     '2 = Maybe, if the evidence is strong enough.',\n",
        "     '3 = No; once I make up my mind, I will not change my position for any reason.'],\n",
        "    'Are you willing to compromise on issues?':\n",
        "    ['1 = Yes, I can accept compromises on most or all issues.',\n",
        "     '2 = Yes, but only on certain issues.',\n",
        "     '3 = No to all compromises.'],\n",
        "    'Can you accept that you might be wrong on an issue?':\n",
        "    ['1 = Yes, no one is always correct.',\n",
        "     '2 = Yes, but only on certain issues. I am generally correct.',\n",
        "     '3 = No, I am certain about everything.'],\n",
        "    'Do you think political issues can be solved in more than one way?':\n",
        "    ['1 = Yes. Two or more solutions may exist on many issues.',\n",
        "     '2 = Yes, but only on certain issues.',\n",
        "     '3 = No. There can only be one single solution to any problem.'],\n",
        "    'What percent of issues are you willing to consider new ideas and/or compromise on?':\n",
        "    ['1 = 50% or more.',\n",
        "     '2 = Up to 50%.',\n",
        "     '3 = 0%'],\n",
        "    'Are there any issues you are unwilling to consider new evidence that may change your mind?':\n",
        "    ['1 = No',\n",
        "     '2 = A few.',\n",
        "     '3 = Yes. No evidence can change my position.']\n",
        "    }\n",
        " \n",
        "# For Positions on Issues.\n",
        "position_on_issues = ['LL = 1', 'CL = 2', 'RL = 3',\n",
        "                      'LC = 4', 'CC = 5', 'RC = 6',\n",
        "                      'LR = 7', 'CR = 8', 'RR = 9']\n",
        "dominant_position = ['Ultra Liberal', 'Liberal', 'Moderate Liberal',\n",
        "    'Liberal Centrist', 'Centrist', 'Conservative Centrist',\n",
        "    'Moderate Conservative', 'Conservative', 'Ultra Conservative']\n",
        "position_results = []\n",
        "issue_questions_answers = {\n",
        "    'In general, how do you self-identify politically?':\n",
        "    ['1 = Ultra-liberal', '2 = Liberal','3 = Moderate Liberal',\n",
        "     '4 = Liberal Centrist','5 = Centrist', '6 = Conservative Centrist',\n",
        "     '7 = Moderate Conservative', '8 = Conservative', '9 = Ultra Conservative'],\n",
        "    'How do you most identify on social issues?':\n",
        "    ['1 = Ultra-liberal', '2 = Liberal','3 = Moderate Liberal',\n",
        "     '4 = Liberal Centrist','5 = Centrist', '6 = Conservative Centrist',\n",
        "     '7 = Moderate Conservative', '8 = Conservative', '9 = Ultra Conservative'],\n",
        "    'How do you most identify on economic issues?':\n",
        "    ['1 = Ultra-liberal', '2 = Liberal','3 = Moderate Liberal',\n",
        "     '4 = Liberal Centrist','5 = Centrist', '6 = Conservative Centrist',\n",
        "     '7 = Moderate Conservative', '8 = Conservative', '9 = Ultra Conservative'],\n",
        "    'How do you most identify on foreign policy issues?':\n",
        "    ['1 = Ultra-liberal', '2 = Liberal','3 = Moderate Liberal',\n",
        "     '4 = Liberal Centrist','5 = Centrist', '6 = Conservative Centrist',\n",
        "     '7 = Moderate Conservative', '8 = Conservative', '9 = Ultra Conservative'],\n",
        "    'What is your position on trade related issues in general?':\n",
        "    ['1 = Support free trade.',\n",
        "     '2 = Support free trade only with allied nations and limited free trade '\n",
        "     'with non-allied nations.',\n",
        "     '4 = Support limited free trade with allied nations and restricted trade '\n",
        "     'with non-allied nations.',\n",
        "     '5 = Support limited free trade only with certain allies, restrictive '\n",
        "     'trade with the remaining allies, and no trade with non-allied nations.',\n",
        "     '6 = Support only restricted trade with all allies and no trade with '\n",
        "     'non-allied nations.',\n",
        "     '8 = Support only restricted trade with certain allies but no trade with '\n",
        "     'others.',\n",
        "     '9 = Do not  support trade with others.'],\n",
        "    'In your opinion, people who cannot afford medical treatment should:':\n",
        "    ['1 = Recieve whatever care they need, including extensive long-term care if needed.',\n",
        "     '2 = Recieve whatever care they need up to long-term care, but options for certain care may be limited to lower cost options.',\n",
        "     '3 = Recieve whatever care needed up to long-term care, but some treatments (lower or higher cost) may not be available.',\n",
        "     '4 = Recieve most care required and general long-term care.',\n",
        "     '5 = Recieve most care required with limited long-term care.',\n",
        "     '6 = Recieve most care required with limited short-term care.',\n",
        "     '7 = Recieve emergency care required with limited short term care possible but not guaranteed.',\n",
        "     '8 = Recieve only emergency care required.',\n",
        "     '9 = No treatment given.'],\n",
        "    'What do you think about safety training for gun purchases?':\n",
        "    ['1 = All gun purchases should show gun buyer has completed extensive safety training that is updated annually.',\n",
        "     '2 = All gun purchases should show gun buyer has completed extensive safety training that is updated bi-annually.',\n",
        "     '3 = All gun purchases should show gun buyer has completed extensive safety training that is updated every 3-5 years.',\n",
        "     '4 = All gun purchases should show gun buyer has completed moderate safety training that is updated annually or bi-annually.',\n",
        "     '5 = All gun purchases should show gun buyer has completed moderate safety training that is updated every 3-5 years.',\n",
        "     '6 = All gun purchases should show gun buyer has completed basic safety training that is updated at least every 3 years.',\n",
        "     '7 = All gun purchases should show gun buyer has completed basic safety training that is updated every 5-10 years.',\n",
        "     '8 = All gun purchases should show gun buyer has completed basic safety training. No updated training required.',\n",
        "     '9 = No safety training should be required to own or use a gun.'],\n",
        "    }\n",
        " "
      ],
      "execution_count": null,
      "outputs": []
    },
    {
      "cell_type": "code",
      "metadata": {
        "id": "HUAzBjSTRLFr"
      },
      "source": [
        "# Create data structures for functions\n",
        "survey_prompts = [ 'Preferred Governing System', 'Primary Political Dispositon',\n",
        "                  'Positions on Issues']"
      ],
      "execution_count": null,
      "outputs": []
    },
    {
      "cell_type": "code",
      "metadata": {
        "id": "-FhdgJDNSKLW"
      },
      "source": [
        "def survey_prompt(prompt):\n",
        "  # Prints what the user will do next.\n",
        "  print(f'Answer the questions that follow to determine your {prompt}.\\n')"
      ],
      "execution_count": null,
      "outputs": []
    },
    {
      "cell_type": "code",
      "metadata": {
        "id": "CK6oW2hoTEgc"
      },
      "source": [
        "survey_prompt(survey_prompts[0])"
      ],
      "execution_count": null,
      "outputs": []
    },
    {
      "cell_type": "code",
      "metadata": {
        "id": "qLJsOsArVUKa"
      },
      "source": [
        "def survey(survey_dictionary):\n",
        "  # Conducts survey.\n",
        "  question = 1\n",
        "  for k, v in survey_dictionary.items():\n",
        "    print(f'Question {question}')\n",
        "    print(k)\n",
        "    print(f'\\nChoose one:')\n",
        "    for i in v:\n",
        "        print(f'\\t{i}')\n",
        "        \n",
        "    result = input('\\nEnter choice (Example: 1, 2, 3, ...) or (q to quit): ')\n",
        "    if result == 'q':\n",
        "        break\n",
        "    else:\n",
        "      if survey_dictionary == governing_questions_answers:\n",
        "        governing_results.append(int(result))\n",
        "        print('\\n')\n",
        "      elif survey_dictionary == dispositions_questions_answers:\n",
        "        disposition_results.append(int(result))\n",
        "        print('\\n')\n",
        "      elif survey_dictionary == issue_questions_answers:\n",
        "        position_results.append(int(result))\n",
        "        print('\\n')\n",
        "    question += 1\n",
        "\n"
      ],
      "execution_count": null,
      "outputs": []
    },
    {
      "cell_type": "code",
      "metadata": {
        "id": "gKF8WBJIXe9R"
      },
      "source": [
        "survey(governing_questions_answers)"
      ],
      "execution_count": null,
      "outputs": []
    },
    {
      "cell_type": "code",
      "metadata": {
        "id": "6Tfr7lQjsmKT"
      },
      "source": [
        "# Show results of survey and store in lists for making charts.\n",
        "def results_of_survey(results):\n",
        "  # Print results of survey to screen.\n",
        "  if sum(results) == 0:\n",
        "    print('You ended your session early.')\n",
        "  else:\n",
        "      if results == governing_results:  \n",
        "        print('Your answers were:')\n",
        "        for g_r in governing_results:\n",
        "          if g_r == 1:\n",
        "            print('\\tDemocracy')\n",
        "            democracy_size.append(g_r)\n",
        "          elif g_r == 2:\n",
        "            print('\\tMixocracy')\n",
        "            mixocracy_size.append(g_r)\n",
        "          else:\n",
        "            print('\\tAutocracy')\n",
        "            autocracy_size.append(g_r)\n",
        "      elif results == disposition_results:\n",
        "        print('Your answers were:')\n",
        "        for d_r in disposition_results:\n",
        "          if d_r == 1:\n",
        "            print('\\tOpen')\n",
        "            open_size.append(d_r)\n",
        "          elif d_r == 2:\n",
        "            print('\\tPartailly Open')\n",
        "            partially_open_size.append(d_r)\n",
        "          else:\n",
        "            print('\\tClosed')\n",
        "            closed_size.append(d_r)\n",
        "      elif results == position_results:\n",
        "        print('Your answers were:')\n",
        "        for p_r in position_results:\n",
        "          if p_r == 1:\n",
        "            print('\\tLeft leaning Left')\n",
        "            ll_size.append(p_r)\n",
        "          elif p_r == 2:\n",
        "            print('\\tCenter Left')\n",
        "            cl_size.append(p_r)\n",
        "          elif p_r == 3:\n",
        "            print('\\tRight leaning Left')\n",
        "            rl_size.append(p_r)\n",
        "          elif p_r == 4:\n",
        "            print ('\\tLeft leaning Center')\n",
        "            lc_size.append(p_r)\n",
        "          elif p_r == 5:\n",
        "            print('\\tCenter of Center')\n",
        "            cc_size.append(p_r)\n",
        "          elif p_r == 6:\n",
        "            print('\\tRight leaning Center')\n",
        "            rc_size.append(p_r)\n",
        "          elif p_r == 7:\n",
        "            print('\\tLeft leaning Right')\n",
        "            lr_size.append(p_r)\n",
        "          elif p_r == 8:\n",
        "            print('\\tCenter Right')\n",
        "            cr_size.append(p_r)\n",
        "          else:\n",
        "            print('\\tRight leaning Right')\n",
        "            rr_size.append(p_r)\n"
      ],
      "execution_count": null,
      "outputs": []
    },
    {
      "cell_type": "code",
      "metadata": {
        "id": "NR7TE__AwysY"
      },
      "source": [
        "results_of_survey(governing_results)"
      ],
      "execution_count": null,
      "outputs": []
    },
    {
      "cell_type": "code",
      "metadata": {
        "id": "vGY7SE0d2g7c"
      },
      "source": [
        "# Print average governing system based on answers.\n",
        "preferred_governing_system_score = sum(governing_results)/len(governing_results)\n",
        "if float(preferred_governing_system_score) == 1.0:\n",
        "  print(f'Your preferred governing system is {preferred_governing_system[0]}')\n",
        "  primary_sub_group.insert(1, 0.5)\n",
        "  p_g_s = preferred_governing_system[0]\n",
        "elif float(preferred_governing_system_score) == 3.0:\n",
        "  print(f'Your preferred governing system is {preferred_governing_system[2]}')\n",
        "  primary_sub_group.insert(1, 2.5)\n",
        "  p_g_s = preferred_governing_system[2]\n",
        "else:\n",
        "  print(f'Your preferred governing system is {preferred_governing_system[1]}')\n",
        "  primary_sub_group.insert(1, 1.5)\n",
        "  p_g_s = preferred_governing_system[1]"
      ],
      "execution_count": null,
      "outputs": []
    },
    {
      "cell_type": "code",
      "metadata": {
        "id": "-ZlXXb1d3erk"
      },
      "source": [
        "# Set up for pie chart.\n",
        "d = len(democracy_size)\n",
        "m = len(mixocracy_size)\n",
        "a = len(autocracy_size)\n",
        "if d and m and a > 0:\n",
        "  sizes = [d, m, a]\n",
        "  labels = 'Democracy', 'Mixocracy', 'Autocracy'\n",
        "elif d and m > 0 and a < 1:\n",
        "  sizes = [d, m]\n",
        "  labels = 'Democracy', 'Mixocracy'\n",
        "elif d and a > 0 and m < 1:\n",
        "  sizes = [d, a]\n",
        "  labels = 'Democracy', 'Autocracy'\n",
        "elif m and a > 0 and d < 1:\n",
        "  sizes = [m, a]\n",
        "  labels = 'Mixocracy', 'Autocracy'\n",
        "elif a == len(governing_results):\n",
        "  sizes = [a]\n",
        "  labels = 'Autocracy',\n",
        "elif m == len(governing_results):\n",
        "  sizes = [m]\n",
        "  labels = 'Mixocracy',\n",
        "elif d == len(governing_results):\n",
        "  sizes = [d]\n",
        "  labels = 'Democracy',"
      ],
      "execution_count": null,
      "outputs": []
    },
    {
      "cell_type": "code",
      "metadata": {
        "id": "ZMoroXRu4HnQ"
      },
      "source": [
        "# Plot pie chart.\n",
        "fig, ax = plt.subplots()\n",
        "ax.pie(sizes, labels=labels)\n",
        "ax.axis('equal')\n",
        "plt.show()"
      ],
      "execution_count": null,
      "outputs": []
    },
    {
      "cell_type": "code",
      "metadata": {
        "id": "SYWepr1C6Osv"
      },
      "source": [
        "survey_prompt(survey_prompts[1])"
      ],
      "execution_count": null,
      "outputs": []
    },
    {
      "cell_type": "code",
      "metadata": {
        "id": "iRfwzrfc6gPT"
      },
      "source": [
        "survey(dispositions_questions_answers)"
      ],
      "execution_count": null,
      "outputs": []
    },
    {
      "cell_type": "code",
      "metadata": {
        "id": "p3Hjwp-L6yRF"
      },
      "source": [
        "results_of_survey(disposition_results)"
      ],
      "execution_count": null,
      "outputs": []
    },
    {
      "cell_type": "code",
      "metadata": {
        "id": "kyKLLi2RqROn"
      },
      "source": [
        "primary_disposition_score = sum(disposition_results)/len(disposition_results)\n",
        "if float(primary_disposition_score) == 1.0:\n",
        "    print(f'Your primary political disposition is {primary_political_disposition[0]}')\n",
        "    p_p_d = primary_political_disposition[0]\n",
        "    primary_sub_group.insert(2, 0.5)\n",
        "elif float(primary_disposition_score) == 3.0:\n",
        "    print(f'Your primary political disposition is {primary_political_disposition[2]}')\n",
        "    primary_sub_group.insert(2, 2.5)\n",
        "    p_p_d = primary_political_disposition[2]\n",
        "else:\n",
        "    print(f'Your primary political disposition is {primary_political_disposition[1]}')\n",
        "    primary_sub_group.insert(2, 1.5)\n",
        "    p_p_d = primary_political_disposition[1]"
      ],
      "execution_count": null,
      "outputs": []
    },
    {
      "cell_type": "code",
      "metadata": {
        "id": "BpIB_oB5qhb8"
      },
      "source": [
        "# Plot results of Political Disposition in chart(s).\n",
        "open_size = []\n",
        "partially_open_size = []\n",
        "closed_size = []\n",
        "for result in disposition_results:\n",
        "    if result == 1:\n",
        "        open_size.append(result)\n",
        "    elif result == 2:\n",
        "        partially_open_size.append(result)\n",
        "    elif result == 3:\n",
        "        closed_size.append(result)\n",
        "o = len(open_size)\n",
        "p = len(partially_open_size)\n",
        "c = len(closed_size)\n",
        "if o and p and c > 0:\n",
        "    sizes = [o, p, c]\n",
        "    labels = 'Open', 'Partially Open', 'Closed'\n",
        "elif o and p > 0 and c < 1:\n",
        "    sizes = [o, p]\n",
        "    labels = 'Open', 'Partially Open'\n",
        "elif o and c > 0 and p < 1:\n",
        "    sizes = [o, c]\n",
        "    labels = 'Open', 'Closed'\n",
        "elif m and a > 0 and d < 1:\n",
        "    sizes = [p, c]\n",
        "    labels = 'Partially Open', 'Closed'\n",
        "elif o == len(disposition_results):\n",
        "    sizes = [o]\n",
        "    labels = 'Open',\n",
        "elif p == len(disposition_results):\n",
        "    sizes = [p]\n",
        "    labels = 'Partially Open',\n",
        "elif c == len(disposition_results):\n",
        "    sizes = [c]\n",
        "    labels = 'Closed',"
      ],
      "execution_count": null,
      "outputs": []
    },
    {
      "cell_type": "code",
      "metadata": {
        "id": "2Sh3P1MKquPV"
      },
      "source": [
        "fig, ax = plt.subplots()\n",
        "ax.pie(sizes, labels=labels)\n",
        "ax.axis('equal')\n",
        "plt.show()"
      ],
      "execution_count": null,
      "outputs": []
    },
    {
      "cell_type": "code",
      "metadata": {
        "id": "yPU8XOJeoOzg"
      },
      "source": [
        "survey_prompt(survey_prompts[2])"
      ],
      "execution_count": null,
      "outputs": []
    },
    {
      "cell_type": "code",
      "metadata": {
        "id": "WknrhG8XoVIm"
      },
      "source": [
        "survey(issue_questions_answers)"
      ],
      "execution_count": null,
      "outputs": []
    },
    {
      "cell_type": "code",
      "metadata": {
        "id": "O-YeFip5om6d"
      },
      "source": [
        "results_of_survey(position_results)"
      ],
      "execution_count": null,
      "outputs": []
    },
    {
      "cell_type": "code",
      "metadata": {
        "id": "HuUgQ5E7r02L"
      },
      "source": [
        "position_score = sum(position_results)/len(position_results)\n",
        "if float(position_score) < 2.0:\n",
        "    print(f'Your dominant position on questions answered so far is {dominant_position[0]}')\n",
        "    primary_sub_group.insert(0, 0.5)\n",
        "    d_p = dominant_position[0]\n",
        "elif float(position_score) < 3.0:\n",
        "    print(f'Your dominant position on questions answered so far is {dominant_position[1]}')\n",
        "    primary_sub_group.insert(0, 1.5)\n",
        "    d_p = dominant_position[1]\n",
        "elif float(position_score) < 4.0:\n",
        "    print(f'Your dominant position on questions answered so far is {dominant_position[2]}')\n",
        "    primary_sub_group.insert(0, 2.5)\n",
        "    d_p = dominant_position[2]\n",
        "elif float(position_score) < 5.0:\n",
        "    print(f'Your dominant position on questions answered so far is {dominant_position[3]}')\n",
        "    primary_sub_group.insert(0, 3.5)\n",
        "    d_p = dominant_position[3]\n",
        "elif float(position_score) < 6.0:\n",
        "    print(f'Your dominant position on questions answered so far is {dominant_position[4]}')\n",
        "    primary_sub_group.insert(0, 4.5)\n",
        "    d_p = dominant_position[4]\n",
        "elif float(position_score) < 7.0:\n",
        "    print(f'Your dominant position on questions answered so far is {dominant_position[5]}')\n",
        "    primary_sub_group.insert(0, 5.5)\n",
        "    d_p = dominant_position[5]\n",
        "elif float(position_score) < 8.0:\n",
        "    print(f'Your dominant position on questions answered so far is {dominant_position[6]}')\n",
        "    primary_sub_group.insert(0, 6.5)\n",
        "    d_p = dominant_position[6]\n",
        "elif float(position_score) < 9.0:\n",
        "    print(f'Your dominant position on questions answered so far is {dominant_position[7]}')\n",
        "    primary_sub_group.insert(0, 7.5)\n",
        "    d_p = dominant_position[7]\n",
        "else:\n",
        "    print(f'Your dominant position on questions answered so far is {dominant_position[8]}')\n",
        "    primary_sub_group.insert(0, 8.5)\n",
        "    d_p = dominant_position[8]"
      ],
      "execution_count": null,
      "outputs": []
    },
    {
      "cell_type": "code",
      "metadata": {
        "id": "0NLZhxeIr0dS"
      },
      "source": [
        "# Show results of Position on Issues in a pie chart.\n",
        "    \n",
        "ll_size = []\n",
        "cl_size = []\n",
        "rl_size = []\n",
        "lc_size = []\n",
        "cc_size = []\n",
        "rc_size = []\n",
        "lr_size = []\n",
        "cr_size = []\n",
        "rr_size = []\n",
        "for result in position_results:\n",
        "    if result == 1:\n",
        "        ll_size.append(result)\n",
        "    elif result == 2:\n",
        "        cl_size.append(result)\n",
        "    elif result == 3:\n",
        "        rl_size.append(result)\n",
        "    elif result == 4:\n",
        "        lc_size.append(result)\n",
        "    elif result == 5:\n",
        "        cc_size.append(result)\n",
        "    elif result == 6:\n",
        "        rc_size.append(result)\n",
        "    elif result == 7:\n",
        "        lr_size.append(result)\n",
        "    elif result == 8:\n",
        "        cr_size.append(result)\n",
        "    elif result == 9:\n",
        "        rr_size.append(result)\n",
        " \n",
        "sizes = []\n",
        "labels_list = []\n",
        "ll = len(ll_size)\n",
        "if ll > 0:\n",
        "    sizes.append(ll)\n",
        "    labels_list.append('Left leaning Left')\n",
        "cl = len(cl_size)\n",
        "if cl > 0:\n",
        "    sizes.append(cl)\n",
        "    labels_list.append('Center Left')\n",
        "rl = len(rl_size)\n",
        "if rl > 0:\n",
        "    sizes.append(rl)\n",
        "    labels_list.append('Right leaning Left')\n",
        "lc = len(lc_size)\n",
        "if lc > 0:\n",
        "    sizes.append(lc)\n",
        "    labels_list.append('Left of Center')\n",
        "cc = len(cc_size)\n",
        "if cc > 0:\n",
        "    sizes.append(cc)\n",
        "    labels_list.append('Center of Center')\n",
        "rc = len(rc_size)\n",
        "if rc > 0:\n",
        "    sizes.append(rc)\n",
        "    labels_list.append('Right of Center')\n",
        "lr = len(lr_size)\n",
        "if lr > 0:\n",
        "    sizes.append(lr)\n",
        "    labels_list.append('Left leaning Right')\n",
        "cr = len(cr_size)\n",
        "if cr > 0:\n",
        "    sizes.append(cr)\n",
        "    labels_list.append('Center Right')\n",
        "rr = len(rr_size)\n",
        "if rr > 0:\n",
        "    sizes.append(rr)\n",
        "    labels_list.append('Right leaning Right')"
      ],
      "execution_count": null,
      "outputs": []
    },
    {
      "cell_type": "code",
      "metadata": {
        "id": "ixltA1q6r38h"
      },
      "source": [
        "fig, ax = plt.subplots()\n",
        "ax.pie(sizes, labels=labels_list)\n",
        "ax.axis('equal')\n",
        "plt.show()"
      ],
      "execution_count": null,
      "outputs": []
    },
    {
      "cell_type": "code",
      "metadata": {
        "id": "qbdLoe4eulox"
      },
      "source": [
        "# Show results of Sub-groups.\n",
        "print(f'According to your answers, the Political Sub-group you most identify with is a '\n",
        "      f'{d_p} who prefers {p_g_s} as the government type and, typically, you are {p_p_d} '\n",
        "      f'to new political ideas or compromises.')\n",
        "    \n",
        "print('\\nThis is a 3d visualization of the 81 Political Sub-groups with you primary Sub-group plotted as an orange dot.')\n",
        "left_issue_values = [0.5, 1.5, 2.5]\n",
        "center_issue_values = [3.5, 4.5, 5.5]\n",
        "right_issue_values = [6.5, 7.5, 8.5]\n",
        "governing_system_values = [0.5, 1.5, 2.5]\n",
        "political_openness_values = [0.5, 1.5, 2.5]\n",
        " \n",
        "#plt.style.use('classic')\n",
        "fig = plt.figure()\n",
        "ax = fig.add_subplot(projection='3d')\n",
        "ax.set_xlabel('Issue Position', c='green')\n",
        "#ax.set_ylabel('Governing System', c='green')\n",
        "#ax.set_zlabel('Political Openness', c='green')\n",
        "fig.suptitle('Politics Cubed', fontsize=14, fontweight='bold')\n",
        "ax.set_title('81 Political Sub-groups', c='brown')\n",
        " \n",
        "for l in left_issue_values: # Plots all Political Sub-groups on left.\n",
        "    ax.scatter(l, 0.5, 0.5, c='blue')\n",
        "    ax.scatter(l, 0.5, 1.5, c='blue')\n",
        "    ax.scatter(l, 0.5, 2.5, c='blue')\n",
        "    ax.scatter(l, 1.5, 0.5, c='blue')\n",
        "    ax.scatter(l, 1.5, 1.5, c='blue')\n",
        "    ax.scatter(l, 1.5, 2.5, c='blue')\n",
        "    ax.scatter(l, 2.5, 0.5, c='blue')\n",
        "    ax.scatter(l, 2.5, 1.5, c='blue')\n",
        "    ax.scatter(l, 2.5, 2.5, c='blue')\n",
        " \n",
        "for c in center_issue_values: # Plots Sub-groups in center.\n",
        "    ax.scatter(c, 0.5, 0.5, c='m')\n",
        "    ax.scatter(c, 0.5, 1.5, c='m')\n",
        "    ax.scatter(c, 0.5, 2.5, c='m')\n",
        "    ax.scatter(c, 1.5, 0.5, c='m')\n",
        "    ax.scatter(c, 1.5, 1.5, c='m')\n",
        "    ax.scatter(c, 1.5, 2.5, c='m')\n",
        "    ax.scatter(c, 2.5, 0.5, c='m')\n",
        "    ax.scatter(c, 2.5, 1.5, c='m')\n",
        "    ax.scatter(c, 2.5, 2.5, c='m')\n",
        " \n",
        "for r in right_issue_values: # Plots Sub-groups on right.\n",
        "    ax.scatter(r, 0.5, 0.5, c='red')\n",
        "    ax.scatter(r, 0.5, 1.5, c='red')\n",
        "    ax.scatter(r, 0.5, 2.5, c='red')\n",
        "    ax.scatter(r, 1.5, 0.5, c='red')\n",
        "    ax.scatter(r, 1.5, 1.5, c='red')\n",
        "    ax.scatter(r, 1.5, 2.5, c='red')\n",
        "    ax.scatter(r, 2.5, 0.5, c='red')\n",
        "    ax.scatter(r, 2.5, 1.5, c='red')\n",
        "    ax.scatter(r, 2.5, 2.5, c='red')\n",
        "    \n",
        "ax.plot([0, 9], [0, 0], [0, 0], zdir='z', c='black')\n",
        "ax.plot([0, 9], [3, 3], [0, 0], zdir='z', c='black')\n",
        "ax.plot([0, 0], [0, 3], [0, 0], zdir='z', c='black')\n",
        "ax.plot([9, 9], [0, 3], [0, 0], zdir='z', c='black')\n",
        "ax.plot([0, 9], [0, 0], [3, 3], zdir='z', c='black')\n",
        "ax.plot([0, 9], [3, 3], [3, 3], zdir='z', c='black')\n",
        "ax.plot([0, 0], [0, 3], [3, 3], zdir='z', c='black')\n",
        "ax.plot([9, 9], [0, 3], [3, 3], zdir='z', c='black')\n",
        "ax.plot([0, 0], [0, 0], [0, 3], zdir='z', c='black')\n",
        "ax.plot([0, 0], [3, 3], [0, 3], zdir='z', c='black')\n",
        "ax.plot([9, 9], [0, 0], [0, 3], zdir='z', c='black')\n",
        "ax.plot([9, 9], [3, 3], [0, 3], zdir='z', c='black')\n",
        " \n",
        "    \n",
        " \n",
        "ax.scatter(primary_sub_group[0], primary_sub_group[2], primary_sub_group[1], c='orange', s=200) # Highlights a specific Sub-group.\n",
        " \n",
        "# Customizing ticks.\n",
        "y_positions = [1, 2, 3]\n",
        "governing_systems = ['Democracy', 'Mixocracy', 'Autocracy']\n",
        "ax.yaxis.set_major_locator(ticker.FixedLocator(y_positions))\n",
        "ax.yaxis.set_major_formatter(ticker.FixedFormatter(governing_systems))\n",
        " \n",
        "z_positions = [0, 1, 2]\n",
        "political_openness = ['Open', 'Partial Open', 'Closed']\n",
        "ax.zaxis.set_major_locator(ticker.FixedLocator(z_positions))\n",
        "ax.zaxis.set_major_formatter(ticker.FixedFormatter(political_openness))\n",
        " \n",
        "fig.tight_layout()\n",
        " \n",
        "plt.show()\n",
        "# Plot results of Sub-groups."
      ],
      "execution_count": null,
      "outputs": []
    }
  ]
}